{
 "cells": [
  {
   "cell_type": "code",
   "execution_count": 1,
   "id": "75dc0c39-97f0-4a4f-83a2-7e7565363f65",
   "metadata": {},
   "outputs": [],
   "source": [
    "things = [\"mozzarella\",\"cinderella\",\"salmonella\"]"
   ]
  },
  {
   "cell_type": "code",
   "execution_count": null,
   "id": "79e74ec7-5086-47f6-aae0-3104971e1ce8",
   "metadata": {},
   "outputs": [],
   "source": [
    "things.capitalize(\"cinderella\")\n",
    "print(things)"
   ]
  },
  {
   "cell_type": "code",
   "execution_count": null,
   "id": "a718e860-68d7-44b9-b99c-da94f7ac3425",
   "metadata": {},
   "outputs": [],
   "source": [
    "x = things.upper()\n",
    "print (x)"
   ]
  },
  {
   "cell_type": "code",
   "execution_count": null,
   "id": "95e43919-638d-421f-bf68-4f517dce4ac3",
   "metadata": {},
   "outputs": [],
   "source": [
    "things.remove(\"salmonella\")\n",
    "print(x)"
   ]
  },
  {
   "cell_type": "code",
   "execution_count": null,
   "id": "69fa24a9-f2b0-4eb5-a399-f90f72f7a114",
   "metadata": {},
   "outputs": [],
   "source": [
    "good()\n",
    "def agree():\n",
    "    return ['Harry', 'Ron', 'Hermione']"
   ]
  },
  {
   "cell_type": "code",
   "execution_count": null,
   "id": "5e068488-003e-4f11-8eb6-e409b6f74772",
   "metadata": {},
   "outputs": [],
   "source": [
    "get_odds:\n",
    "def agree():\n",
    "    return ['1','3','5','7','9']"
   ]
  }
 ],
 "metadata": {
  "kernelspec": {
   "display_name": "Python 3 (ipykernel)",
   "language": "python",
   "name": "python3"
  },
  "language_info": {
   "codemirror_mode": {
    "name": "ipython",
    "version": 3
   },
   "file_extension": ".py",
   "mimetype": "text/x-python",
   "name": "python",
   "nbconvert_exporter": "python",
   "pygments_lexer": "ipython3",
   "version": "3.11.7"
  }
 },
 "nbformat": 4,
 "nbformat_minor": 5
}
